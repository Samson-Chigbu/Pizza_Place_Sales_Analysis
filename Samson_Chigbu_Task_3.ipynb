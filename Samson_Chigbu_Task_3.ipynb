{
 "cells": [
  {
   "cell_type": "markdown",
   "id": "b06573b0-3295-447b-a26c-7282ca2b2caa",
   "metadata": {},
   "source": [
    "# PIZZA PLACE SALES"
   ]
  },
  {
   "cell_type": "code",
   "execution_count": 1,
   "id": "c5c25f61-caef-4b7e-a5ab-c44ff85edbee",
   "metadata": {},
   "outputs": [],
   "source": [
    "# import necessary libraries\n",
    "import pandas as pd\n",
    "import matplotlib.pyplot as plt"
   ]
  },
  {
   "cell_type": "code",
   "execution_count": 2,
   "id": "8097e4ac-8a5b-4b22-92d2-67aa672d9302",
   "metadata": {},
   "outputs": [
    {
     "data": {
      "text/html": [
       "<div>\n",
       "<style scoped>\n",
       "    .dataframe tbody tr th:only-of-type {\n",
       "        vertical-align: middle;\n",
       "    }\n",
       "\n",
       "    .dataframe tbody tr th {\n",
       "        vertical-align: top;\n",
       "    }\n",
       "\n",
       "    .dataframe thead th {\n",
       "        text-align: right;\n",
       "    }\n",
       "</style>\n",
       "<table border=\"1\" class=\"dataframe\">\n",
       "  <thead>\n",
       "    <tr style=\"text-align: right;\">\n",
       "      <th></th>\n",
       "      <th>pizza_id</th>\n",
       "      <th>pizza_type_id</th>\n",
       "      <th>size</th>\n",
       "      <th>price</th>\n",
       "    </tr>\n",
       "  </thead>\n",
       "  <tbody>\n",
       "    <tr>\n",
       "      <th>0</th>\n",
       "      <td>bbq_ckn_s</td>\n",
       "      <td>bbq_ckn</td>\n",
       "      <td>S</td>\n",
       "      <td>12.75</td>\n",
       "    </tr>\n",
       "    <tr>\n",
       "      <th>1</th>\n",
       "      <td>bbq_ckn_m</td>\n",
       "      <td>bbq_ckn</td>\n",
       "      <td>M</td>\n",
       "      <td>16.75</td>\n",
       "    </tr>\n",
       "    <tr>\n",
       "      <th>2</th>\n",
       "      <td>bbq_ckn_l</td>\n",
       "      <td>bbq_ckn</td>\n",
       "      <td>L</td>\n",
       "      <td>20.75</td>\n",
       "    </tr>\n",
       "    <tr>\n",
       "      <th>3</th>\n",
       "      <td>cali_ckn_s</td>\n",
       "      <td>cali_ckn</td>\n",
       "      <td>S</td>\n",
       "      <td>12.75</td>\n",
       "    </tr>\n",
       "    <tr>\n",
       "      <th>4</th>\n",
       "      <td>cali_ckn_m</td>\n",
       "      <td>cali_ckn</td>\n",
       "      <td>M</td>\n",
       "      <td>16.75</td>\n",
       "    </tr>\n",
       "  </tbody>\n",
       "</table>\n",
       "</div>"
      ],
      "text/plain": [
       "     pizza_id pizza_type_id size  price\n",
       "0   bbq_ckn_s       bbq_ckn    S  12.75\n",
       "1   bbq_ckn_m       bbq_ckn    M  16.75\n",
       "2   bbq_ckn_l       bbq_ckn    L  20.75\n",
       "3  cali_ckn_s      cali_ckn    S  12.75\n",
       "4  cali_ckn_m      cali_ckn    M  16.75"
      ]
     },
     "execution_count": 2,
     "metadata": {},
     "output_type": "execute_result"
    }
   ],
   "source": [
    "# importing the dataset\n",
    "df1 = pd.read_csv('pizzas.csv')\n",
    "df1.head()"
   ]
  },
  {
   "cell_type": "code",
   "execution_count": 3,
   "id": "d5e21806-cb2b-4d98-aae6-c861330796c9",
   "metadata": {},
   "outputs": [
    {
     "data": {
      "text/html": [
       "<div>\n",
       "<style scoped>\n",
       "    .dataframe tbody tr th:only-of-type {\n",
       "        vertical-align: middle;\n",
       "    }\n",
       "\n",
       "    .dataframe tbody tr th {\n",
       "        vertical-align: top;\n",
       "    }\n",
       "\n",
       "    .dataframe thead th {\n",
       "        text-align: right;\n",
       "    }\n",
       "</style>\n",
       "<table border=\"1\" class=\"dataframe\">\n",
       "  <thead>\n",
       "    <tr style=\"text-align: right;\">\n",
       "      <th></th>\n",
       "      <th>pizza_type_id</th>\n",
       "      <th>name</th>\n",
       "      <th>category</th>\n",
       "      <th>ingredients</th>\n",
       "    </tr>\n",
       "  </thead>\n",
       "  <tbody>\n",
       "    <tr>\n",
       "      <th>0</th>\n",
       "      <td>bbq_ckn</td>\n",
       "      <td>The Barbecue Chicken Pizza</td>\n",
       "      <td>Chicken</td>\n",
       "      <td>Barbecued Chicken, Red Peppers, Green Peppers,...</td>\n",
       "    </tr>\n",
       "    <tr>\n",
       "      <th>1</th>\n",
       "      <td>cali_ckn</td>\n",
       "      <td>The California Chicken Pizza</td>\n",
       "      <td>Chicken</td>\n",
       "      <td>Chicken, Artichoke, Spinach, Garlic, Jalapeno ...</td>\n",
       "    </tr>\n",
       "    <tr>\n",
       "      <th>2</th>\n",
       "      <td>ckn_alfredo</td>\n",
       "      <td>The Chicken Alfredo Pizza</td>\n",
       "      <td>Chicken</td>\n",
       "      <td>Chicken, Red Onions, Red Peppers, Mushrooms, A...</td>\n",
       "    </tr>\n",
       "    <tr>\n",
       "      <th>3</th>\n",
       "      <td>ckn_pesto</td>\n",
       "      <td>The Chicken Pesto Pizza</td>\n",
       "      <td>Chicken</td>\n",
       "      <td>Chicken, Tomatoes, Red Peppers, Spinach, Garli...</td>\n",
       "    </tr>\n",
       "    <tr>\n",
       "      <th>4</th>\n",
       "      <td>southw_ckn</td>\n",
       "      <td>The Southwest Chicken Pizza</td>\n",
       "      <td>Chicken</td>\n",
       "      <td>Chicken, Tomatoes, Red Peppers, Red Onions, Ja...</td>\n",
       "    </tr>\n",
       "  </tbody>\n",
       "</table>\n",
       "</div>"
      ],
      "text/plain": [
       "  pizza_type_id                          name category  \\\n",
       "0       bbq_ckn    The Barbecue Chicken Pizza  Chicken   \n",
       "1      cali_ckn  The California Chicken Pizza  Chicken   \n",
       "2   ckn_alfredo     The Chicken Alfredo Pizza  Chicken   \n",
       "3     ckn_pesto       The Chicken Pesto Pizza  Chicken   \n",
       "4    southw_ckn   The Southwest Chicken Pizza  Chicken   \n",
       "\n",
       "                                         ingredients  \n",
       "0  Barbecued Chicken, Red Peppers, Green Peppers,...  \n",
       "1  Chicken, Artichoke, Spinach, Garlic, Jalapeno ...  \n",
       "2  Chicken, Red Onions, Red Peppers, Mushrooms, A...  \n",
       "3  Chicken, Tomatoes, Red Peppers, Spinach, Garli...  \n",
       "4  Chicken, Tomatoes, Red Peppers, Red Onions, Ja...  "
      ]
     },
     "execution_count": 3,
     "metadata": {},
     "output_type": "execute_result"
    }
   ],
   "source": [
    "# importing the dataset\n",
    "df2 = pd.read_csv('pizza_types.csv', encoding = 'latin-1')\n",
    "df2.head()"
   ]
  },
  {
   "cell_type": "code",
   "execution_count": 4,
   "id": "a0e71fae-9afd-4784-9a7b-0819dd554046",
   "metadata": {},
   "outputs": [
    {
     "data": {
      "text/html": [
       "<div>\n",
       "<style scoped>\n",
       "    .dataframe tbody tr th:only-of-type {\n",
       "        vertical-align: middle;\n",
       "    }\n",
       "\n",
       "    .dataframe tbody tr th {\n",
       "        vertical-align: top;\n",
       "    }\n",
       "\n",
       "    .dataframe thead th {\n",
       "        text-align: right;\n",
       "    }\n",
       "</style>\n",
       "<table border=\"1\" class=\"dataframe\">\n",
       "  <thead>\n",
       "    <tr style=\"text-align: right;\">\n",
       "      <th></th>\n",
       "      <th>order_id</th>\n",
       "      <th>date</th>\n",
       "      <th>time</th>\n",
       "    </tr>\n",
       "  </thead>\n",
       "  <tbody>\n",
       "    <tr>\n",
       "      <th>0</th>\n",
       "      <td>1</td>\n",
       "      <td>2015-01-01</td>\n",
       "      <td>11:38:36</td>\n",
       "    </tr>\n",
       "    <tr>\n",
       "      <th>1</th>\n",
       "      <td>2</td>\n",
       "      <td>2015-01-01</td>\n",
       "      <td>11:57:40</td>\n",
       "    </tr>\n",
       "    <tr>\n",
       "      <th>2</th>\n",
       "      <td>3</td>\n",
       "      <td>2015-01-01</td>\n",
       "      <td>12:12:28</td>\n",
       "    </tr>\n",
       "    <tr>\n",
       "      <th>3</th>\n",
       "      <td>4</td>\n",
       "      <td>2015-01-01</td>\n",
       "      <td>12:16:31</td>\n",
       "    </tr>\n",
       "    <tr>\n",
       "      <th>4</th>\n",
       "      <td>5</td>\n",
       "      <td>2015-01-01</td>\n",
       "      <td>12:21:30</td>\n",
       "    </tr>\n",
       "  </tbody>\n",
       "</table>\n",
       "</div>"
      ],
      "text/plain": [
       "   order_id        date      time\n",
       "0         1  2015-01-01  11:38:36\n",
       "1         2  2015-01-01  11:57:40\n",
       "2         3  2015-01-01  12:12:28\n",
       "3         4  2015-01-01  12:16:31\n",
       "4         5  2015-01-01  12:21:30"
      ]
     },
     "execution_count": 4,
     "metadata": {},
     "output_type": "execute_result"
    }
   ],
   "source": [
    "# importing the dataset\n",
    "df3 = pd.read_csv('orders.csv')\n",
    "df3.head()"
   ]
  },
  {
   "cell_type": "code",
   "execution_count": 5,
   "id": "d856f425-95a8-4a32-8b0b-74d48045fb23",
   "metadata": {},
   "outputs": [
    {
     "data": {
      "text/html": [
       "<div>\n",
       "<style scoped>\n",
       "    .dataframe tbody tr th:only-of-type {\n",
       "        vertical-align: middle;\n",
       "    }\n",
       "\n",
       "    .dataframe tbody tr th {\n",
       "        vertical-align: top;\n",
       "    }\n",
       "\n",
       "    .dataframe thead th {\n",
       "        text-align: right;\n",
       "    }\n",
       "</style>\n",
       "<table border=\"1\" class=\"dataframe\">\n",
       "  <thead>\n",
       "    <tr style=\"text-align: right;\">\n",
       "      <th></th>\n",
       "      <th>order_details_id</th>\n",
       "      <th>order_id</th>\n",
       "      <th>pizza_id</th>\n",
       "      <th>quantity</th>\n",
       "    </tr>\n",
       "  </thead>\n",
       "  <tbody>\n",
       "    <tr>\n",
       "      <th>0</th>\n",
       "      <td>1</td>\n",
       "      <td>1</td>\n",
       "      <td>hawaiian_m</td>\n",
       "      <td>1</td>\n",
       "    </tr>\n",
       "    <tr>\n",
       "      <th>1</th>\n",
       "      <td>2</td>\n",
       "      <td>2</td>\n",
       "      <td>classic_dlx_m</td>\n",
       "      <td>1</td>\n",
       "    </tr>\n",
       "    <tr>\n",
       "      <th>2</th>\n",
       "      <td>3</td>\n",
       "      <td>2</td>\n",
       "      <td>five_cheese_l</td>\n",
       "      <td>1</td>\n",
       "    </tr>\n",
       "    <tr>\n",
       "      <th>3</th>\n",
       "      <td>4</td>\n",
       "      <td>2</td>\n",
       "      <td>ital_supr_l</td>\n",
       "      <td>1</td>\n",
       "    </tr>\n",
       "    <tr>\n",
       "      <th>4</th>\n",
       "      <td>5</td>\n",
       "      <td>2</td>\n",
       "      <td>mexicana_m</td>\n",
       "      <td>1</td>\n",
       "    </tr>\n",
       "  </tbody>\n",
       "</table>\n",
       "</div>"
      ],
      "text/plain": [
       "   order_details_id  order_id       pizza_id  quantity\n",
       "0                 1         1     hawaiian_m         1\n",
       "1                 2         2  classic_dlx_m         1\n",
       "2                 3         2  five_cheese_l         1\n",
       "3                 4         2    ital_supr_l         1\n",
       "4                 5         2     mexicana_m         1"
      ]
     },
     "execution_count": 5,
     "metadata": {},
     "output_type": "execute_result"
    }
   ],
   "source": [
    "# importing the dataset\n",
    "df4 = pd.read_csv('order_details.csv')\n",
    "df4.head()"
   ]
  },
  {
   "cell_type": "code",
   "execution_count": 6,
   "id": "300c56ca-36c8-4f1e-a037-6d469c7152b1",
   "metadata": {},
   "outputs": [
    {
     "data": {
      "text/html": [
       "<div>\n",
       "<style scoped>\n",
       "    .dataframe tbody tr th:only-of-type {\n",
       "        vertical-align: middle;\n",
       "    }\n",
       "\n",
       "    .dataframe tbody tr th {\n",
       "        vertical-align: top;\n",
       "    }\n",
       "\n",
       "    .dataframe thead th {\n",
       "        text-align: right;\n",
       "    }\n",
       "</style>\n",
       "<table border=\"1\" class=\"dataframe\">\n",
       "  <thead>\n",
       "    <tr style=\"text-align: right;\">\n",
       "      <th></th>\n",
       "      <th>Table</th>\n",
       "      <th>Field</th>\n",
       "      <th>Description</th>\n",
       "    </tr>\n",
       "  </thead>\n",
       "  <tbody>\n",
       "    <tr>\n",
       "      <th>0</th>\n",
       "      <td>orders</td>\n",
       "      <td>order_id</td>\n",
       "      <td>Unique identifier for each order placed by a t...</td>\n",
       "    </tr>\n",
       "    <tr>\n",
       "      <th>1</th>\n",
       "      <td>orders</td>\n",
       "      <td>date</td>\n",
       "      <td>Date the order was placed (entered into the sy...</td>\n",
       "    </tr>\n",
       "    <tr>\n",
       "      <th>2</th>\n",
       "      <td>orders</td>\n",
       "      <td>time</td>\n",
       "      <td>Time the order was placed (entered into the sy...</td>\n",
       "    </tr>\n",
       "    <tr>\n",
       "      <th>3</th>\n",
       "      <td>order_details</td>\n",
       "      <td>order_details_id</td>\n",
       "      <td>Unique identifier for each pizza placed within...</td>\n",
       "    </tr>\n",
       "    <tr>\n",
       "      <th>4</th>\n",
       "      <td>order_details</td>\n",
       "      <td>order_id</td>\n",
       "      <td>Foreign key that ties the details in each orde...</td>\n",
       "    </tr>\n",
       "  </tbody>\n",
       "</table>\n",
       "</div>"
      ],
      "text/plain": [
       "           Table             Field  \\\n",
       "0         orders          order_id   \n",
       "1         orders              date   \n",
       "2         orders              time   \n",
       "3  order_details  order_details_id   \n",
       "4  order_details          order_id   \n",
       "\n",
       "                                         Description  \n",
       "0  Unique identifier for each order placed by a t...  \n",
       "1  Date the order was placed (entered into the sy...  \n",
       "2  Time the order was placed (entered into the sy...  \n",
       "3  Unique identifier for each pizza placed within...  \n",
       "4  Foreign key that ties the details in each orde...  "
      ]
     },
     "execution_count": 6,
     "metadata": {},
     "output_type": "execute_result"
    }
   ],
   "source": [
    "# importing the dataset\n",
    "df5 = pd.read_csv('data_dictionary.csv')\n",
    "df5.head()"
   ]
  },
  {
   "cell_type": "code",
   "execution_count": 7,
   "id": "839857d4-e92a-43d5-977a-cdb333fb127d",
   "metadata": {},
   "outputs": [],
   "source": [
    "# Merge the first and second datasets\n",
    "df_final = pd.merge(df1, df2, on='pizza_type_id', how='left')"
   ]
  },
  {
   "cell_type": "code",
   "execution_count": 8,
   "id": "6b2a120b-afe9-464f-9fce-f88b9407b2b1",
   "metadata": {},
   "outputs": [],
   "source": [
    "# Merge the performance and demographics datasets\n",
    "df_main = pd.merge(df3, df4, on='order_id', how='left')"
   ]
  },
  {
   "cell_type": "code",
   "execution_count": 9,
   "id": "0d1612a4-de16-4009-b52a-903a68b24a76",
   "metadata": {},
   "outputs": [
    {
     "data": {
      "text/html": [
       "<div>\n",
       "<style scoped>\n",
       "    .dataframe tbody tr th:only-of-type {\n",
       "        vertical-align: middle;\n",
       "    }\n",
       "\n",
       "    .dataframe tbody tr th {\n",
       "        vertical-align: top;\n",
       "    }\n",
       "\n",
       "    .dataframe thead th {\n",
       "        text-align: right;\n",
       "    }\n",
       "</style>\n",
       "<table border=\"1\" class=\"dataframe\">\n",
       "  <thead>\n",
       "    <tr style=\"text-align: right;\">\n",
       "      <th></th>\n",
       "      <th>pizza_id</th>\n",
       "      <th>pizza_type_id</th>\n",
       "      <th>size</th>\n",
       "      <th>price</th>\n",
       "      <th>name</th>\n",
       "      <th>category</th>\n",
       "      <th>ingredients</th>\n",
       "    </tr>\n",
       "  </thead>\n",
       "  <tbody>\n",
       "    <tr>\n",
       "      <th>0</th>\n",
       "      <td>bbq_ckn_s</td>\n",
       "      <td>bbq_ckn</td>\n",
       "      <td>S</td>\n",
       "      <td>12.75</td>\n",
       "      <td>The Barbecue Chicken Pizza</td>\n",
       "      <td>Chicken</td>\n",
       "      <td>Barbecued Chicken, Red Peppers, Green Peppers,...</td>\n",
       "    </tr>\n",
       "    <tr>\n",
       "      <th>1</th>\n",
       "      <td>bbq_ckn_m</td>\n",
       "      <td>bbq_ckn</td>\n",
       "      <td>M</td>\n",
       "      <td>16.75</td>\n",
       "      <td>The Barbecue Chicken Pizza</td>\n",
       "      <td>Chicken</td>\n",
       "      <td>Barbecued Chicken, Red Peppers, Green Peppers,...</td>\n",
       "    </tr>\n",
       "    <tr>\n",
       "      <th>2</th>\n",
       "      <td>bbq_ckn_l</td>\n",
       "      <td>bbq_ckn</td>\n",
       "      <td>L</td>\n",
       "      <td>20.75</td>\n",
       "      <td>The Barbecue Chicken Pizza</td>\n",
       "      <td>Chicken</td>\n",
       "      <td>Barbecued Chicken, Red Peppers, Green Peppers,...</td>\n",
       "    </tr>\n",
       "    <tr>\n",
       "      <th>3</th>\n",
       "      <td>cali_ckn_s</td>\n",
       "      <td>cali_ckn</td>\n",
       "      <td>S</td>\n",
       "      <td>12.75</td>\n",
       "      <td>The California Chicken Pizza</td>\n",
       "      <td>Chicken</td>\n",
       "      <td>Chicken, Artichoke, Spinach, Garlic, Jalapeno ...</td>\n",
       "    </tr>\n",
       "    <tr>\n",
       "      <th>4</th>\n",
       "      <td>cali_ckn_m</td>\n",
       "      <td>cali_ckn</td>\n",
       "      <td>M</td>\n",
       "      <td>16.75</td>\n",
       "      <td>The California Chicken Pizza</td>\n",
       "      <td>Chicken</td>\n",
       "      <td>Chicken, Artichoke, Spinach, Garlic, Jalapeno ...</td>\n",
       "    </tr>\n",
       "  </tbody>\n",
       "</table>\n",
       "</div>"
      ],
      "text/plain": [
       "     pizza_id pizza_type_id size  price                          name  \\\n",
       "0   bbq_ckn_s       bbq_ckn    S  12.75    The Barbecue Chicken Pizza   \n",
       "1   bbq_ckn_m       bbq_ckn    M  16.75    The Barbecue Chicken Pizza   \n",
       "2   bbq_ckn_l       bbq_ckn    L  20.75    The Barbecue Chicken Pizza   \n",
       "3  cali_ckn_s      cali_ckn    S  12.75  The California Chicken Pizza   \n",
       "4  cali_ckn_m      cali_ckn    M  16.75  The California Chicken Pizza   \n",
       "\n",
       "  category                                        ingredients  \n",
       "0  Chicken  Barbecued Chicken, Red Peppers, Green Peppers,...  \n",
       "1  Chicken  Barbecued Chicken, Red Peppers, Green Peppers,...  \n",
       "2  Chicken  Barbecued Chicken, Red Peppers, Green Peppers,...  \n",
       "3  Chicken  Chicken, Artichoke, Spinach, Garlic, Jalapeno ...  \n",
       "4  Chicken  Chicken, Artichoke, Spinach, Garlic, Jalapeno ...  "
      ]
     },
     "execution_count": 9,
     "metadata": {},
     "output_type": "execute_result"
    }
   ],
   "source": [
    "df_final.head()"
   ]
  },
  {
   "cell_type": "code",
   "execution_count": 10,
   "id": "3bbac76b-9b36-4ab3-93cb-ae50db80c0d4",
   "metadata": {},
   "outputs": [
    {
     "data": {
      "text/html": [
       "<div>\n",
       "<style scoped>\n",
       "    .dataframe tbody tr th:only-of-type {\n",
       "        vertical-align: middle;\n",
       "    }\n",
       "\n",
       "    .dataframe tbody tr th {\n",
       "        vertical-align: top;\n",
       "    }\n",
       "\n",
       "    .dataframe thead th {\n",
       "        text-align: right;\n",
       "    }\n",
       "</style>\n",
       "<table border=\"1\" class=\"dataframe\">\n",
       "  <thead>\n",
       "    <tr style=\"text-align: right;\">\n",
       "      <th></th>\n",
       "      <th>order_id</th>\n",
       "      <th>date</th>\n",
       "      <th>time</th>\n",
       "      <th>order_details_id</th>\n",
       "      <th>pizza_id</th>\n",
       "      <th>quantity</th>\n",
       "    </tr>\n",
       "  </thead>\n",
       "  <tbody>\n",
       "    <tr>\n",
       "      <th>0</th>\n",
       "      <td>1</td>\n",
       "      <td>2015-01-01</td>\n",
       "      <td>11:38:36</td>\n",
       "      <td>1</td>\n",
       "      <td>hawaiian_m</td>\n",
       "      <td>1</td>\n",
       "    </tr>\n",
       "    <tr>\n",
       "      <th>1</th>\n",
       "      <td>2</td>\n",
       "      <td>2015-01-01</td>\n",
       "      <td>11:57:40</td>\n",
       "      <td>2</td>\n",
       "      <td>classic_dlx_m</td>\n",
       "      <td>1</td>\n",
       "    </tr>\n",
       "    <tr>\n",
       "      <th>2</th>\n",
       "      <td>2</td>\n",
       "      <td>2015-01-01</td>\n",
       "      <td>11:57:40</td>\n",
       "      <td>3</td>\n",
       "      <td>five_cheese_l</td>\n",
       "      <td>1</td>\n",
       "    </tr>\n",
       "    <tr>\n",
       "      <th>3</th>\n",
       "      <td>2</td>\n",
       "      <td>2015-01-01</td>\n",
       "      <td>11:57:40</td>\n",
       "      <td>4</td>\n",
       "      <td>ital_supr_l</td>\n",
       "      <td>1</td>\n",
       "    </tr>\n",
       "    <tr>\n",
       "      <th>4</th>\n",
       "      <td>2</td>\n",
       "      <td>2015-01-01</td>\n",
       "      <td>11:57:40</td>\n",
       "      <td>5</td>\n",
       "      <td>mexicana_m</td>\n",
       "      <td>1</td>\n",
       "    </tr>\n",
       "  </tbody>\n",
       "</table>\n",
       "</div>"
      ],
      "text/plain": [
       "   order_id        date      time  order_details_id       pizza_id  quantity\n",
       "0         1  2015-01-01  11:38:36                 1     hawaiian_m         1\n",
       "1         2  2015-01-01  11:57:40                 2  classic_dlx_m         1\n",
       "2         2  2015-01-01  11:57:40                 3  five_cheese_l         1\n",
       "3         2  2015-01-01  11:57:40                 4    ital_supr_l         1\n",
       "4         2  2015-01-01  11:57:40                 5     mexicana_m         1"
      ]
     },
     "execution_count": 10,
     "metadata": {},
     "output_type": "execute_result"
    }
   ],
   "source": [
    "df_main.head()"
   ]
  },
  {
   "cell_type": "code",
   "execution_count": 11,
   "id": "45c13505-93d0-49cd-9187-267c61aade87",
   "metadata": {},
   "outputs": [],
   "source": [
    "# Merge the merged main and final datasets\n",
    "df = pd.merge(df_main, df_final, on='pizza_id', how='left')"
   ]
  },
  {
   "cell_type": "code",
   "execution_count": 12,
   "id": "e389a532-8343-4e3d-b8b1-4f7c5c7da34a",
   "metadata": {},
   "outputs": [
    {
     "data": {
      "text/html": [
       "<div>\n",
       "<style scoped>\n",
       "    .dataframe tbody tr th:only-of-type {\n",
       "        vertical-align: middle;\n",
       "    }\n",
       "\n",
       "    .dataframe tbody tr th {\n",
       "        vertical-align: top;\n",
       "    }\n",
       "\n",
       "    .dataframe thead th {\n",
       "        text-align: right;\n",
       "    }\n",
       "</style>\n",
       "<table border=\"1\" class=\"dataframe\">\n",
       "  <thead>\n",
       "    <tr style=\"text-align: right;\">\n",
       "      <th></th>\n",
       "      <th>order_id</th>\n",
       "      <th>date</th>\n",
       "      <th>time</th>\n",
       "      <th>order_details_id</th>\n",
       "      <th>pizza_id</th>\n",
       "      <th>quantity</th>\n",
       "      <th>pizza_type_id</th>\n",
       "      <th>size</th>\n",
       "      <th>price</th>\n",
       "      <th>name</th>\n",
       "      <th>category</th>\n",
       "      <th>ingredients</th>\n",
       "    </tr>\n",
       "  </thead>\n",
       "  <tbody>\n",
       "    <tr>\n",
       "      <th>0</th>\n",
       "      <td>1</td>\n",
       "      <td>2015-01-01</td>\n",
       "      <td>11:38:36</td>\n",
       "      <td>1</td>\n",
       "      <td>hawaiian_m</td>\n",
       "      <td>1</td>\n",
       "      <td>hawaiian</td>\n",
       "      <td>M</td>\n",
       "      <td>13.25</td>\n",
       "      <td>The Hawaiian Pizza</td>\n",
       "      <td>Classic</td>\n",
       "      <td>Sliced Ham, Pineapple, Mozzarella Cheese</td>\n",
       "    </tr>\n",
       "    <tr>\n",
       "      <th>1</th>\n",
       "      <td>2</td>\n",
       "      <td>2015-01-01</td>\n",
       "      <td>11:57:40</td>\n",
       "      <td>2</td>\n",
       "      <td>classic_dlx_m</td>\n",
       "      <td>1</td>\n",
       "      <td>classic_dlx</td>\n",
       "      <td>M</td>\n",
       "      <td>16.00</td>\n",
       "      <td>The Classic Deluxe Pizza</td>\n",
       "      <td>Classic</td>\n",
       "      <td>Pepperoni, Mushrooms, Red Onions, Red Peppers,...</td>\n",
       "    </tr>\n",
       "    <tr>\n",
       "      <th>2</th>\n",
       "      <td>2</td>\n",
       "      <td>2015-01-01</td>\n",
       "      <td>11:57:40</td>\n",
       "      <td>3</td>\n",
       "      <td>five_cheese_l</td>\n",
       "      <td>1</td>\n",
       "      <td>five_cheese</td>\n",
       "      <td>L</td>\n",
       "      <td>18.50</td>\n",
       "      <td>The Five Cheese Pizza</td>\n",
       "      <td>Veggie</td>\n",
       "      <td>Mozzarella Cheese, Provolone Cheese, Smoked Go...</td>\n",
       "    </tr>\n",
       "    <tr>\n",
       "      <th>3</th>\n",
       "      <td>2</td>\n",
       "      <td>2015-01-01</td>\n",
       "      <td>11:57:40</td>\n",
       "      <td>4</td>\n",
       "      <td>ital_supr_l</td>\n",
       "      <td>1</td>\n",
       "      <td>ital_supr</td>\n",
       "      <td>L</td>\n",
       "      <td>20.75</td>\n",
       "      <td>The Italian Supreme Pizza</td>\n",
       "      <td>Supreme</td>\n",
       "      <td>Calabrese Salami, Capocollo, Tomatoes, Red Oni...</td>\n",
       "    </tr>\n",
       "    <tr>\n",
       "      <th>4</th>\n",
       "      <td>2</td>\n",
       "      <td>2015-01-01</td>\n",
       "      <td>11:57:40</td>\n",
       "      <td>5</td>\n",
       "      <td>mexicana_m</td>\n",
       "      <td>1</td>\n",
       "      <td>mexicana</td>\n",
       "      <td>M</td>\n",
       "      <td>16.00</td>\n",
       "      <td>The Mexicana Pizza</td>\n",
       "      <td>Veggie</td>\n",
       "      <td>Tomatoes, Red Peppers, Jalapeno Peppers, Red O...</td>\n",
       "    </tr>\n",
       "  </tbody>\n",
       "</table>\n",
       "</div>"
      ],
      "text/plain": [
       "   order_id        date      time  order_details_id       pizza_id  quantity  \\\n",
       "0         1  2015-01-01  11:38:36                 1     hawaiian_m         1   \n",
       "1         2  2015-01-01  11:57:40                 2  classic_dlx_m         1   \n",
       "2         2  2015-01-01  11:57:40                 3  five_cheese_l         1   \n",
       "3         2  2015-01-01  11:57:40                 4    ital_supr_l         1   \n",
       "4         2  2015-01-01  11:57:40                 5     mexicana_m         1   \n",
       "\n",
       "  pizza_type_id size  price                       name category  \\\n",
       "0      hawaiian    M  13.25         The Hawaiian Pizza  Classic   \n",
       "1   classic_dlx    M  16.00   The Classic Deluxe Pizza  Classic   \n",
       "2   five_cheese    L  18.50      The Five Cheese Pizza   Veggie   \n",
       "3     ital_supr    L  20.75  The Italian Supreme Pizza  Supreme   \n",
       "4      mexicana    M  16.00         The Mexicana Pizza   Veggie   \n",
       "\n",
       "                                         ingredients  \n",
       "0           Sliced Ham, Pineapple, Mozzarella Cheese  \n",
       "1  Pepperoni, Mushrooms, Red Onions, Red Peppers,...  \n",
       "2  Mozzarella Cheese, Provolone Cheese, Smoked Go...  \n",
       "3  Calabrese Salami, Capocollo, Tomatoes, Red Oni...  \n",
       "4  Tomatoes, Red Peppers, Jalapeno Peppers, Red O...  "
      ]
     },
     "execution_count": 12,
     "metadata": {},
     "output_type": "execute_result"
    }
   ],
   "source": [
    "df.head()"
   ]
  },
  {
   "cell_type": "markdown",
   "id": "d430ea51-5c30-4863-82bd-651f6a1e9864",
   "metadata": {},
   "source": [
    "## Data Understanding"
   ]
  },
  {
   "cell_type": "code",
   "execution_count": 13,
   "id": "f7f9b9bb-e9ee-4111-a6f1-76e86f284829",
   "metadata": {},
   "outputs": [
    {
     "data": {
      "text/plain": [
       "(48620, 12)"
      ]
     },
     "execution_count": 13,
     "metadata": {},
     "output_type": "execute_result"
    }
   ],
   "source": [
    "# checking for the size of the dataset\n",
    "df.shape"
   ]
  },
  {
   "cell_type": "code",
   "execution_count": 14,
   "id": "60805079-c612-4dcc-81c8-ecf50671d063",
   "metadata": {},
   "outputs": [
    {
     "name": "stdout",
     "output_type": "stream",
     "text": [
      "<class 'pandas.core.frame.DataFrame'>\n",
      "RangeIndex: 48620 entries, 0 to 48619\n",
      "Data columns (total 12 columns):\n",
      " #   Column            Non-Null Count  Dtype  \n",
      "---  ------            --------------  -----  \n",
      " 0   order_id          48620 non-null  int64  \n",
      " 1   date              48620 non-null  object \n",
      " 2   time              48620 non-null  object \n",
      " 3   order_details_id  48620 non-null  int64  \n",
      " 4   pizza_id          48620 non-null  object \n",
      " 5   quantity          48620 non-null  int64  \n",
      " 6   pizza_type_id     48620 non-null  object \n",
      " 7   size              48620 non-null  object \n",
      " 8   price             48620 non-null  float64\n",
      " 9   name              48620 non-null  object \n",
      " 10  category          48620 non-null  object \n",
      " 11  ingredients       48620 non-null  object \n",
      "dtypes: float64(1), int64(3), object(8)\n",
      "memory usage: 4.5+ MB\n"
     ]
    }
   ],
   "source": [
    "df.info()"
   ]
  },
  {
   "cell_type": "markdown",
   "id": "431218ed-a20b-4a98-8f4f-9d1872b1f262",
   "metadata": {},
   "source": [
    "Note that we have no missing values and a Datatype Problem"
   ]
  },
  {
   "cell_type": "code",
   "execution_count": 15,
   "id": "16045380-fa74-48e2-88c7-8cf055059c9e",
   "metadata": {},
   "outputs": [],
   "source": [
    "# Convert date and time columns\n",
    "df['date'] = pd.to_datetime(df['date'])\n",
    "df['time'] = pd.to_datetime(df['time'], format='%H:%M:%S').dt.time\n",
    "\n",
    "# Creating Revenue Column\n",
    "df['revenue'] = df['quantity'] * df['price']"
   ]
  },
  {
   "cell_type": "code",
   "execution_count": 16,
   "id": "80b43026-1dc3-4852-b31f-1d57f8609ec3",
   "metadata": {},
   "outputs": [
    {
     "name": "stdout",
     "output_type": "stream",
     "text": [
      "<class 'pandas.core.frame.DataFrame'>\n",
      "RangeIndex: 48620 entries, 0 to 48619\n",
      "Data columns (total 13 columns):\n",
      " #   Column            Non-Null Count  Dtype         \n",
      "---  ------            --------------  -----         \n",
      " 0   order_id          48620 non-null  int64         \n",
      " 1   date              48620 non-null  datetime64[ns]\n",
      " 2   time              48620 non-null  object        \n",
      " 3   order_details_id  48620 non-null  int64         \n",
      " 4   pizza_id          48620 non-null  object        \n",
      " 5   quantity          48620 non-null  int64         \n",
      " 6   pizza_type_id     48620 non-null  object        \n",
      " 7   size              48620 non-null  object        \n",
      " 8   price             48620 non-null  float64       \n",
      " 9   name              48620 non-null  object        \n",
      " 10  category          48620 non-null  object        \n",
      " 11  ingredients       48620 non-null  object        \n",
      " 12  revenue           48620 non-null  float64       \n",
      "dtypes: datetime64[ns](1), float64(2), int64(3), object(7)\n",
      "memory usage: 4.8+ MB\n"
     ]
    }
   ],
   "source": [
    "df.info()"
   ]
  },
  {
   "cell_type": "code",
   "execution_count": 17,
   "id": "c37b4e90-cf26-4cc8-b8f4-3d06acb9dafd",
   "metadata": {},
   "outputs": [
    {
     "data": {
      "text/html": [
       "<div>\n",
       "<style scoped>\n",
       "    .dataframe tbody tr th:only-of-type {\n",
       "        vertical-align: middle;\n",
       "    }\n",
       "\n",
       "    .dataframe tbody tr th {\n",
       "        vertical-align: top;\n",
       "    }\n",
       "\n",
       "    .dataframe thead th {\n",
       "        text-align: right;\n",
       "    }\n",
       "</style>\n",
       "<table border=\"1\" class=\"dataframe\">\n",
       "  <thead>\n",
       "    <tr style=\"text-align: right;\">\n",
       "      <th></th>\n",
       "      <th>order_id</th>\n",
       "      <th>date</th>\n",
       "      <th>time</th>\n",
       "      <th>order_details_id</th>\n",
       "      <th>pizza_id</th>\n",
       "      <th>quantity</th>\n",
       "      <th>pizza_type_id</th>\n",
       "      <th>size</th>\n",
       "      <th>price</th>\n",
       "      <th>name</th>\n",
       "      <th>category</th>\n",
       "      <th>ingredients</th>\n",
       "      <th>revenue</th>\n",
       "    </tr>\n",
       "  </thead>\n",
       "  <tbody>\n",
       "    <tr>\n",
       "      <th>0</th>\n",
       "      <td>1</td>\n",
       "      <td>2015-01-01</td>\n",
       "      <td>11:38:36</td>\n",
       "      <td>1</td>\n",
       "      <td>hawaiian_m</td>\n",
       "      <td>1</td>\n",
       "      <td>hawaiian</td>\n",
       "      <td>M</td>\n",
       "      <td>13.25</td>\n",
       "      <td>The Hawaiian Pizza</td>\n",
       "      <td>Classic</td>\n",
       "      <td>Sliced Ham, Pineapple, Mozzarella Cheese</td>\n",
       "      <td>13.25</td>\n",
       "    </tr>\n",
       "    <tr>\n",
       "      <th>1</th>\n",
       "      <td>2</td>\n",
       "      <td>2015-01-01</td>\n",
       "      <td>11:57:40</td>\n",
       "      <td>2</td>\n",
       "      <td>classic_dlx_m</td>\n",
       "      <td>1</td>\n",
       "      <td>classic_dlx</td>\n",
       "      <td>M</td>\n",
       "      <td>16.00</td>\n",
       "      <td>The Classic Deluxe Pizza</td>\n",
       "      <td>Classic</td>\n",
       "      <td>Pepperoni, Mushrooms, Red Onions, Red Peppers,...</td>\n",
       "      <td>16.00</td>\n",
       "    </tr>\n",
       "    <tr>\n",
       "      <th>2</th>\n",
       "      <td>2</td>\n",
       "      <td>2015-01-01</td>\n",
       "      <td>11:57:40</td>\n",
       "      <td>3</td>\n",
       "      <td>five_cheese_l</td>\n",
       "      <td>1</td>\n",
       "      <td>five_cheese</td>\n",
       "      <td>L</td>\n",
       "      <td>18.50</td>\n",
       "      <td>The Five Cheese Pizza</td>\n",
       "      <td>Veggie</td>\n",
       "      <td>Mozzarella Cheese, Provolone Cheese, Smoked Go...</td>\n",
       "      <td>18.50</td>\n",
       "    </tr>\n",
       "    <tr>\n",
       "      <th>3</th>\n",
       "      <td>2</td>\n",
       "      <td>2015-01-01</td>\n",
       "      <td>11:57:40</td>\n",
       "      <td>4</td>\n",
       "      <td>ital_supr_l</td>\n",
       "      <td>1</td>\n",
       "      <td>ital_supr</td>\n",
       "      <td>L</td>\n",
       "      <td>20.75</td>\n",
       "      <td>The Italian Supreme Pizza</td>\n",
       "      <td>Supreme</td>\n",
       "      <td>Calabrese Salami, Capocollo, Tomatoes, Red Oni...</td>\n",
       "      <td>20.75</td>\n",
       "    </tr>\n",
       "    <tr>\n",
       "      <th>4</th>\n",
       "      <td>2</td>\n",
       "      <td>2015-01-01</td>\n",
       "      <td>11:57:40</td>\n",
       "      <td>5</td>\n",
       "      <td>mexicana_m</td>\n",
       "      <td>1</td>\n",
       "      <td>mexicana</td>\n",
       "      <td>M</td>\n",
       "      <td>16.00</td>\n",
       "      <td>The Mexicana Pizza</td>\n",
       "      <td>Veggie</td>\n",
       "      <td>Tomatoes, Red Peppers, Jalapeno Peppers, Red O...</td>\n",
       "      <td>16.00</td>\n",
       "    </tr>\n",
       "  </tbody>\n",
       "</table>\n",
       "</div>"
      ],
      "text/plain": [
       "   order_id       date      time  order_details_id       pizza_id  quantity  \\\n",
       "0         1 2015-01-01  11:38:36                 1     hawaiian_m         1   \n",
       "1         2 2015-01-01  11:57:40                 2  classic_dlx_m         1   \n",
       "2         2 2015-01-01  11:57:40                 3  five_cheese_l         1   \n",
       "3         2 2015-01-01  11:57:40                 4    ital_supr_l         1   \n",
       "4         2 2015-01-01  11:57:40                 5     mexicana_m         1   \n",
       "\n",
       "  pizza_type_id size  price                       name category  \\\n",
       "0      hawaiian    M  13.25         The Hawaiian Pizza  Classic   \n",
       "1   classic_dlx    M  16.00   The Classic Deluxe Pizza  Classic   \n",
       "2   five_cheese    L  18.50      The Five Cheese Pizza   Veggie   \n",
       "3     ital_supr    L  20.75  The Italian Supreme Pizza  Supreme   \n",
       "4      mexicana    M  16.00         The Mexicana Pizza   Veggie   \n",
       "\n",
       "                                         ingredients  revenue  \n",
       "0           Sliced Ham, Pineapple, Mozzarella Cheese    13.25  \n",
       "1  Pepperoni, Mushrooms, Red Onions, Red Peppers,...    16.00  \n",
       "2  Mozzarella Cheese, Provolone Cheese, Smoked Go...    18.50  \n",
       "3  Calabrese Salami, Capocollo, Tomatoes, Red Oni...    20.75  \n",
       "4  Tomatoes, Red Peppers, Jalapeno Peppers, Red O...    16.00  "
      ]
     },
     "execution_count": 17,
     "metadata": {},
     "output_type": "execute_result"
    }
   ],
   "source": [
    "df.head()"
   ]
  },
  {
   "cell_type": "code",
   "execution_count": 18,
   "id": "27a8ef1b-d817-4ca1-985b-8b3461bffd42",
   "metadata": {},
   "outputs": [],
   "source": [
    "# Extract time features\n",
    "df['hour'] = pd.to_datetime(df['time'], format='%H:%M:%S').dt.hour\n",
    "df['day_of_week'] = df['date'].dt.day_name()\n",
    "df['month'] = df['date'].dt.month\n",
    "df['month_name'] = df['date'].dt.month_name()"
   ]
  },
  {
   "cell_type": "code",
   "execution_count": 19,
   "id": "0f603f2f-4134-4216-9220-883870ad8618",
   "metadata": {},
   "outputs": [
    {
     "data": {
      "text/html": [
       "<div>\n",
       "<style scoped>\n",
       "    .dataframe tbody tr th:only-of-type {\n",
       "        vertical-align: middle;\n",
       "    }\n",
       "\n",
       "    .dataframe tbody tr th {\n",
       "        vertical-align: top;\n",
       "    }\n",
       "\n",
       "    .dataframe thead th {\n",
       "        text-align: right;\n",
       "    }\n",
       "</style>\n",
       "<table border=\"1\" class=\"dataframe\">\n",
       "  <thead>\n",
       "    <tr style=\"text-align: right;\">\n",
       "      <th></th>\n",
       "      <th>order_id</th>\n",
       "      <th>date</th>\n",
       "      <th>time</th>\n",
       "      <th>order_details_id</th>\n",
       "      <th>pizza_id</th>\n",
       "      <th>quantity</th>\n",
       "      <th>pizza_type_id</th>\n",
       "      <th>size</th>\n",
       "      <th>price</th>\n",
       "      <th>name</th>\n",
       "      <th>category</th>\n",
       "      <th>ingredients</th>\n",
       "      <th>revenue</th>\n",
       "      <th>hour</th>\n",
       "      <th>day_of_week</th>\n",
       "      <th>month</th>\n",
       "      <th>month_name</th>\n",
       "    </tr>\n",
       "  </thead>\n",
       "  <tbody>\n",
       "    <tr>\n",
       "      <th>0</th>\n",
       "      <td>1</td>\n",
       "      <td>2015-01-01</td>\n",
       "      <td>11:38:36</td>\n",
       "      <td>1</td>\n",
       "      <td>hawaiian_m</td>\n",
       "      <td>1</td>\n",
       "      <td>hawaiian</td>\n",
       "      <td>M</td>\n",
       "      <td>13.25</td>\n",
       "      <td>The Hawaiian Pizza</td>\n",
       "      <td>Classic</td>\n",
       "      <td>Sliced Ham, Pineapple, Mozzarella Cheese</td>\n",
       "      <td>13.25</td>\n",
       "      <td>11</td>\n",
       "      <td>Thursday</td>\n",
       "      <td>1</td>\n",
       "      <td>January</td>\n",
       "    </tr>\n",
       "    <tr>\n",
       "      <th>1</th>\n",
       "      <td>2</td>\n",
       "      <td>2015-01-01</td>\n",
       "      <td>11:57:40</td>\n",
       "      <td>2</td>\n",
       "      <td>classic_dlx_m</td>\n",
       "      <td>1</td>\n",
       "      <td>classic_dlx</td>\n",
       "      <td>M</td>\n",
       "      <td>16.00</td>\n",
       "      <td>The Classic Deluxe Pizza</td>\n",
       "      <td>Classic</td>\n",
       "      <td>Pepperoni, Mushrooms, Red Onions, Red Peppers,...</td>\n",
       "      <td>16.00</td>\n",
       "      <td>11</td>\n",
       "      <td>Thursday</td>\n",
       "      <td>1</td>\n",
       "      <td>January</td>\n",
       "    </tr>\n",
       "    <tr>\n",
       "      <th>2</th>\n",
       "      <td>2</td>\n",
       "      <td>2015-01-01</td>\n",
       "      <td>11:57:40</td>\n",
       "      <td>3</td>\n",
       "      <td>five_cheese_l</td>\n",
       "      <td>1</td>\n",
       "      <td>five_cheese</td>\n",
       "      <td>L</td>\n",
       "      <td>18.50</td>\n",
       "      <td>The Five Cheese Pizza</td>\n",
       "      <td>Veggie</td>\n",
       "      <td>Mozzarella Cheese, Provolone Cheese, Smoked Go...</td>\n",
       "      <td>18.50</td>\n",
       "      <td>11</td>\n",
       "      <td>Thursday</td>\n",
       "      <td>1</td>\n",
       "      <td>January</td>\n",
       "    </tr>\n",
       "    <tr>\n",
       "      <th>3</th>\n",
       "      <td>2</td>\n",
       "      <td>2015-01-01</td>\n",
       "      <td>11:57:40</td>\n",
       "      <td>4</td>\n",
       "      <td>ital_supr_l</td>\n",
       "      <td>1</td>\n",
       "      <td>ital_supr</td>\n",
       "      <td>L</td>\n",
       "      <td>20.75</td>\n",
       "      <td>The Italian Supreme Pizza</td>\n",
       "      <td>Supreme</td>\n",
       "      <td>Calabrese Salami, Capocollo, Tomatoes, Red Oni...</td>\n",
       "      <td>20.75</td>\n",
       "      <td>11</td>\n",
       "      <td>Thursday</td>\n",
       "      <td>1</td>\n",
       "      <td>January</td>\n",
       "    </tr>\n",
       "    <tr>\n",
       "      <th>4</th>\n",
       "      <td>2</td>\n",
       "      <td>2015-01-01</td>\n",
       "      <td>11:57:40</td>\n",
       "      <td>5</td>\n",
       "      <td>mexicana_m</td>\n",
       "      <td>1</td>\n",
       "      <td>mexicana</td>\n",
       "      <td>M</td>\n",
       "      <td>16.00</td>\n",
       "      <td>The Mexicana Pizza</td>\n",
       "      <td>Veggie</td>\n",
       "      <td>Tomatoes, Red Peppers, Jalapeno Peppers, Red O...</td>\n",
       "      <td>16.00</td>\n",
       "      <td>11</td>\n",
       "      <td>Thursday</td>\n",
       "      <td>1</td>\n",
       "      <td>January</td>\n",
       "    </tr>\n",
       "  </tbody>\n",
       "</table>\n",
       "</div>"
      ],
      "text/plain": [
       "   order_id       date      time  order_details_id       pizza_id  quantity  \\\n",
       "0         1 2015-01-01  11:38:36                 1     hawaiian_m         1   \n",
       "1         2 2015-01-01  11:57:40                 2  classic_dlx_m         1   \n",
       "2         2 2015-01-01  11:57:40                 3  five_cheese_l         1   \n",
       "3         2 2015-01-01  11:57:40                 4    ital_supr_l         1   \n",
       "4         2 2015-01-01  11:57:40                 5     mexicana_m         1   \n",
       "\n",
       "  pizza_type_id size  price                       name category  \\\n",
       "0      hawaiian    M  13.25         The Hawaiian Pizza  Classic   \n",
       "1   classic_dlx    M  16.00   The Classic Deluxe Pizza  Classic   \n",
       "2   five_cheese    L  18.50      The Five Cheese Pizza   Veggie   \n",
       "3     ital_supr    L  20.75  The Italian Supreme Pizza  Supreme   \n",
       "4      mexicana    M  16.00         The Mexicana Pizza   Veggie   \n",
       "\n",
       "                                         ingredients  revenue  hour  \\\n",
       "0           Sliced Ham, Pineapple, Mozzarella Cheese    13.25    11   \n",
       "1  Pepperoni, Mushrooms, Red Onions, Red Peppers,...    16.00    11   \n",
       "2  Mozzarella Cheese, Provolone Cheese, Smoked Go...    18.50    11   \n",
       "3  Calabrese Salami, Capocollo, Tomatoes, Red Oni...    20.75    11   \n",
       "4  Tomatoes, Red Peppers, Jalapeno Peppers, Red O...    16.00    11   \n",
       "\n",
       "  day_of_week  month month_name  \n",
       "0    Thursday      1    January  \n",
       "1    Thursday      1    January  \n",
       "2    Thursday      1    January  \n",
       "3    Thursday      1    January  \n",
       "4    Thursday      1    January  "
      ]
     },
     "execution_count": 19,
     "metadata": {},
     "output_type": "execute_result"
    }
   ],
   "source": [
    "df.head()"
   ]
  },
  {
   "cell_type": "markdown",
   "id": "2dc9b5b8-fcd6-4e77-bdad-da32a9020b36",
   "metadata": {},
   "source": [
    "## PIZZA PLACE SALES ANALYSIS - 2015"
   ]
  },
  {
   "cell_type": "markdown",
   "id": "68bf9d95-1b97-47d1-8615-ce9dc116e149",
   "metadata": {},
   "source": [
    "#### 1. TOTAL REVENUE"
   ]
  },
  {
   "cell_type": "code",
   "execution_count": 20,
   "id": "b921d436-c4e4-4b4e-bf42-4d13e50156fa",
   "metadata": {},
   "outputs": [
    {
     "name": "stdout",
     "output_type": "stream",
     "text": [
      "TOTAL REVENUE: $817,860.05\n"
     ]
    }
   ],
   "source": [
    "# Total Revenue\n",
    "total_revenue = df['revenue'].sum()\n",
    "print(f\"TOTAL REVENUE: ${total_revenue:,.2f}\")"
   ]
  },
  {
   "cell_type": "markdown",
   "id": "11dcf198-7af6-41c3-8c29-f612ac7e9dcd",
   "metadata": {},
   "source": [
    "#### 2. TOTAL QUANTITY SOLD"
   ]
  },
  {
   "cell_type": "code",
   "execution_count": 21,
   "id": "c4ef9837-863f-440d-9a91-e107d96f8526",
   "metadata": {},
   "outputs": [
    {
     "name": "stdout",
     "output_type": "stream",
     "text": [
      "TOTAL QUANTITY SOLD: 49,574 pizzas\n"
     ]
    }
   ],
   "source": [
    "# 2. Total Quantity Sold\n",
    "total_quantity = df['quantity'].sum()\n",
    "print(f\"TOTAL QUANTITY SOLD: {total_quantity:,} pizzas\")"
   ]
  },
  {
   "cell_type": "markdown",
   "id": "2b145d47-4017-4b05-87d0-5e04115cefb9",
   "metadata": {},
   "source": [
    "#### 3. TOTAL ORDERS"
   ]
  },
  {
   "cell_type": "code",
   "execution_count": 22,
   "id": "5b29bc39-0a8f-4961-8f15-fd610620ff92",
   "metadata": {},
   "outputs": [
    {
     "name": "stdout",
     "output_type": "stream",
     "text": [
      "TOTAL ORDERS: 21,350 orders\n"
     ]
    }
   ],
   "source": [
    "# Total Orders\n",
    "total_orders = df['order_id'].nunique()\n",
    "print(f\"TOTAL ORDERS: {total_orders:,} orders\")"
   ]
  },
  {
   "cell_type": "markdown",
   "id": "16258763-12a6-4426-a63b-48ad8ca9482e",
   "metadata": {},
   "source": [
    "#### 4. PIZZA TYPES"
   ]
  },
  {
   "cell_type": "code",
   "execution_count": 23,
   "id": "3bddae5d-a880-4d51-809d-b6a6ff34163e",
   "metadata": {},
   "outputs": [
    {
     "name": "stdout",
     "output_type": "stream",
     "text": [
      "NUMBER OF PIZZA TYPES: 32 types\n"
     ]
    }
   ],
   "source": [
    "# Pizza Types\n",
    "pizza_types = df['pizza_type_id'].nunique()\n",
    "print(f\"NUMBER OF PIZZA TYPES: {pizza_types} types\")"
   ]
  },
  {
   "cell_type": "markdown",
   "id": "f60d3924-cfbc-479b-a635-e3073652fb44",
   "metadata": {},
   "source": [
    "#### 5. AVERAGE PRICE"
   ]
  },
  {
   "cell_type": "code",
   "execution_count": 24,
   "id": "6aa96396-66c5-4d4c-9707-680531114da8",
   "metadata": {},
   "outputs": [
    {
     "name": "stdout",
     "output_type": "stream",
     "text": [
      "AVERAGE PRICE PER PIZZA: $16.49\n"
     ]
    }
   ],
   "source": [
    "# Average Price\n",
    "avg_price = df['price'].mean()\n",
    "print(f\"AVERAGE PRICE PER PIZZA: ${avg_price:.2f}\")"
   ]
  },
  {
   "cell_type": "markdown",
   "id": "f2513a5e-b241-4394-bf71-4269935cf32c",
   "metadata": {},
   "source": [
    "#### 6. PEAK HOURS OF SALES"
   ]
  },
  {
   "cell_type": "code",
   "execution_count": 25,
   "id": "8cb98c37-c574-4f53-8f9b-90d145d767b6",
   "metadata": {},
   "outputs": [
    {
     "name": "stdout",
     "output_type": "stream",
     "text": [
      "        Revenue  Quantity  Orders\n",
      "hour                             \n",
      "12    111877.90      6776    2520\n",
      "13    106065.70      6413    2455\n",
      "18     89296.85      5417    2399\n",
      "17     86237.45      5211    2336\n",
      "19     72628.90      4406    2009\n",
      "\n",
      "Peak hour: 12:00 ($111,877.90 in revenue)\n"
     ]
    }
   ],
   "source": [
    "# Peak Hours of Sales\n",
    "hourly_sales = df.groupby('hour').agg({\n",
    "    'revenue': 'sum',\n",
    "    'quantity': 'sum',\n",
    "    'order_id': 'nunique'\n",
    "}).round(2)\n",
    "hourly_sales.columns = ['Revenue', 'Quantity', 'Orders']\n",
    "hourly_sales = hourly_sales.sort_values('Revenue', ascending=False)\n",
    "print(hourly_sales.head(5))\n",
    "print(f\"\\nPeak hour: {hourly_sales.index[0]}:00 (${hourly_sales.iloc[0]['Revenue']:,.2f} in revenue)\")"
   ]
  },
  {
   "cell_type": "markdown",
   "id": "546e2598-7838-45da-a076-72371b82af1d",
   "metadata": {},
   "source": [
    "#### 7. SALES BY DAY OF WEEK"
   ]
  },
  {
   "cell_type": "code",
   "execution_count": 26,
   "id": "8970c38c-b1f4-45dc-b79b-44e911eb157c",
   "metadata": {},
   "outputs": [
    {
     "name": "stdout",
     "output_type": "stream",
     "text": [
      "               Revenue  Quantity  Orders\n",
      "day_of_week                             \n",
      "Monday       107329.55      6485    2794\n",
      "Tuesday      114133.80      6895    2973\n",
      "Wednesday    114408.40      6946    3024\n",
      "Thursday     123528.50      7478    3239\n",
      "Friday       136073.90      8242    3538\n",
      "Saturday     123182.40      7493    3158\n",
      "Sunday        99203.50      6035    2624\n",
      "\n",
      "Best day: Friday ($136,073.90)\n"
     ]
    }
   ],
   "source": [
    "# Salea by day of week\n",
    "day_order = ['Monday', 'Tuesday', 'Wednesday', 'Thursday', 'Friday', 'Saturday', 'Sunday']\n",
    "daily_sales = df.groupby('day_of_week').agg({\n",
    "    'revenue': 'sum',\n",
    "    'quantity': 'sum',\n",
    "    'order_id': 'nunique'\n",
    "}).round(2)\n",
    "daily_sales = daily_sales.reindex(day_order)\n",
    "daily_sales.columns = ['Revenue', 'Quantity', 'Orders']\n",
    "print(daily_sales)\n",
    "print(f\"\\nBest day: {daily_sales['Revenue'].idxmax()} (${daily_sales['Revenue'].max():,.2f})\")"
   ]
  },
  {
   "cell_type": "markdown",
   "id": "4441ec8e-449b-4b07-a316-42465396ada3",
   "metadata": {},
   "source": [
    "#### 8. TOP 5 BESTSELLING PIZZAS"
   ]
  },
  {
   "cell_type": "code",
   "execution_count": 27,
   "id": "7a74ccc6-e206-4742-835b-b6f4267b759d",
   "metadata": {},
   "outputs": [
    {
     "name": "stdout",
     "output_type": "stream",
     "text": [
      "                            Quantity Sold   Revenue\n",
      "name                                               \n",
      "The Classic Deluxe Pizza             2453  38180.50\n",
      "The Barbecue Chicken Pizza           2432  42768.00\n",
      "The Hawaiian Pizza                   2422  32273.25\n",
      "The Pepperoni Pizza                  2418  30161.75\n",
      "The Thai Chicken Pizza               2371  43434.25\n"
     ]
    }
   ],
   "source": [
    "# Top % Best Selling Pizzas\n",
    "top_pizzas = df.groupby('name').agg({\n",
    "    'quantity': 'sum',\n",
    "    'revenue': 'sum'\n",
    "}).sort_values('quantity', ascending=False).head(5)\n",
    "top_pizzas.columns = ['Quantity Sold', 'Revenue']\n",
    "print(top_pizzas)"
   ]
  },
  {
   "cell_type": "markdown",
   "id": "e801f1e4-0d37-445e-8129-2c57a577c441",
   "metadata": {},
   "source": [
    "#### 9. MONTHLY SALES TREND"
   ]
  },
  {
   "cell_type": "code",
   "execution_count": 28,
   "id": "ba29bfac-0761-45fc-847b-d90ae73494f3",
   "metadata": {},
   "outputs": [
    {
     "name": "stdout",
     "output_type": "stream",
     "text": [
      "             Revenue  Quantity  Orders\n",
      "month_name                            \n",
      "January     69793.30      4232    1845\n",
      "February    65159.60      3961    1685\n",
      "March       70397.10      4261    1840\n",
      "April       68736.80      4151    1799\n",
      "May         71402.75      4328    1853\n",
      "June        68230.20      4107    1773\n",
      "July        72557.90      4392    1935\n",
      "August      68278.25      4168    1841\n",
      "September   64180.05      3890    1661\n",
      "October     64027.60      3883    1646\n",
      "November    70395.35      4266    1792\n",
      "December    64701.15      3935    1680\n"
     ]
    }
   ],
   "source": [
    "# Monthly Sales Trend\n",
    "monthly_sales = df.groupby('month_name').agg({\n",
    "    'revenue': 'sum',\n",
    "    'quantity': 'sum',\n",
    "    'order_id': 'nunique'\n",
    "}).round(2)\n",
    "month_order = ['January', 'February', 'March', 'April', 'May', 'June', \n",
    "               'July', 'August', 'September', 'October', 'November', 'December']\n",
    "monthly_sales = monthly_sales.reindex(month_order)\n",
    "monthly_sales.columns = ['Revenue', 'Quantity', 'Orders']\n",
    "print(monthly_sales)"
   ]
  },
  {
   "cell_type": "markdown",
   "id": "8c827108-d84b-4003-be0e-bd2276cd8ed8",
   "metadata": {},
   "source": [
    "#### 10. BOTTOM 5 PERFORMING PIZZAS"
   ]
  },
  {
   "cell_type": "code",
   "execution_count": 29,
   "id": "0783ce57-6eb0-48bc-bd06-78f4d417e2e2",
   "metadata": {},
   "outputs": [
    {
     "name": "stdout",
     "output_type": "stream",
     "text": [
      "                           Quantity Sold   Revenue\n",
      "name                                              \n",
      "The Brie Carre Pizza                 490  11588.50\n",
      "The Mediterranean Pizza              934  15360.50\n",
      "The Calabrese Pizza                  937  15934.25\n",
      "The Spinach Supreme Pizza            950  15277.75\n",
      "The Soppressata Pizza                961  16425.75\n"
     ]
    }
   ],
   "source": [
    "# Bottom 5 Performing Pizzas\n",
    "bottom_pizzas = df.groupby('name').agg({\n",
    "    'quantity': 'sum',\n",
    "    'revenue': 'sum'\n",
    "}).sort_values('quantity', ascending=True).head(5)\n",
    "bottom_pizzas.columns = ['Quantity Sold', 'Revenue']\n",
    "print(bottom_pizzas)"
   ]
  },
  {
   "cell_type": "markdown",
   "id": "977f134c-416d-450f-b53a-b812aae509df",
   "metadata": {},
   "source": [
    "## ADDITIONAL INSIGHTS"
   ]
  },
  {
   "cell_type": "markdown",
   "id": "2472699e-365d-44ac-8449-a1fbe2c6140e",
   "metadata": {},
   "source": [
    "#### SALES BY CATEGORY"
   ]
  },
  {
   "cell_type": "code",
   "execution_count": 30,
   "id": "6c4f99e4-3a8d-420d-a979-92aaf7f8d7fa",
   "metadata": {},
   "outputs": [
    {
     "name": "stdout",
     "output_type": "stream",
     "text": [
      "            Revenue  Quantity\n",
      "category                     \n",
      "Classic   220053.10     14888\n",
      "Supreme   208197.00     11987\n",
      "Chicken   195919.50     11050\n",
      "Veggie    193690.45     11649\n"
     ]
    }
   ],
   "source": [
    "# Sales by Category\n",
    "category_sales = df.groupby('category').agg({\n",
    "    'revenue': 'sum',\n",
    "    'quantity': 'sum'\n",
    "}).sort_values('revenue', ascending=False)\n",
    "category_sales.columns = ['Revenue', 'Quantity']\n",
    "print(category_sales)"
   ]
  },
  {
   "cell_type": "markdown",
   "id": "9e8b1858-4d06-4bbe-945e-9058dee57591",
   "metadata": {},
   "source": [
    "#### SALES BY SIZE"
   ]
  },
  {
   "cell_type": "code",
   "execution_count": 31,
   "id": "870cd96f-9ef7-408b-99c4-dacf14c0b4a9",
   "metadata": {},
   "outputs": [
    {
     "name": "stdout",
     "output_type": "stream",
     "text": [
      "        Revenue  Quantity\n",
      "size                     \n",
      "L     375318.70     18956\n",
      "M     249382.25     15635\n",
      "S     178076.50     14403\n",
      "XL     14076.00       552\n",
      "XXL     1006.60        28\n"
     ]
    }
   ],
   "source": [
    "# Sales by Size\n",
    "size_sales = df.groupby('size').agg({\n",
    "    'revenue': 'sum',\n",
    "    'quantity': 'sum'\n",
    "}).sort_values('revenue', ascending=False)\n",
    "size_sales.columns = ['Revenue', 'Quantity']\n",
    "print(size_sales)"
   ]
  },
  {
   "cell_type": "markdown",
   "id": "b3a7058c-e02f-4a2a-8440-4753c59967af",
   "metadata": {},
   "source": [
    "#### AVERAGE ORDER VALUE"
   ]
  },
  {
   "cell_type": "code",
   "execution_count": 32,
   "id": "7db0f348-1af6-4c18-849d-40fb021af519",
   "metadata": {},
   "outputs": [
    {
     "name": "stdout",
     "output_type": "stream",
     "text": [
      "AVERAGE ORDER VALUE: $38.31\n"
     ]
    }
   ],
   "source": [
    "# Average order value\n",
    "avg_order_value = total_revenue / total_orders\n",
    "print(f\"AVERAGE ORDER VALUE: ${avg_order_value:.2f}\")"
   ]
  },
  {
   "cell_type": "markdown",
   "id": "4b09a2e3-0871-4aa0-bde4-17fa585a2dfe",
   "metadata": {},
   "source": [
    "#### PIZZAS PER ORDER"
   ]
  },
  {
   "cell_type": "code",
   "execution_count": 33,
   "id": "8879535d-6097-4744-aa45-279b1c2486dc",
   "metadata": {},
   "outputs": [
    {
     "name": "stdout",
     "output_type": "stream",
     "text": [
      "AVERAGE PIZZAS PER ORDER: 2.32\n"
     ]
    }
   ],
   "source": [
    "# Pizzas per order\n",
    "pizzas_per_order = total_quantity / total_orders\n",
    "print(f\"AVERAGE PIZZAS PER ORDER: {pizzas_per_order:.2f}\")"
   ]
  },
  {
   "cell_type": "markdown",
   "id": "33232a26-5234-47c7-ad55-d65bb580710a",
   "metadata": {},
   "source": [
    "#### BUSIEST VS QUIETEST PERIODS"
   ]
  },
  {
   "cell_type": "code",
   "execution_count": 34,
   "id": "178959f8-432d-4780-8804-f030c49987b0",
   "metadata": {},
   "outputs": [
    {
     "name": "stdout",
     "output_type": "stream",
     "text": [
      "\n",
      "15. BUSIEST VS QUIETEST PERIODS:\n",
      "Busiest Hour: 12:00\n",
      "Quietest Hour: 9:00\n",
      "Busiest Day: Friday\n",
      "Quietest Day: Sunday\n",
      "Best Month: July\n",
      "Worst Month: October\n"
     ]
    }
   ],
   "source": [
    "# Busiest vs Quietest periods\n",
    "print(\"\\n15. BUSIEST VS QUIETEST PERIODS:\")\n",
    "print(f\"Busiest Hour: {hourly_sales.index[0]}:00\")\n",
    "print(f\"Quietest Hour: {hourly_sales.index[-1]}:00\")\n",
    "print(f\"Busiest Day: {daily_sales['Revenue'].idxmax()}\")\n",
    "print(f\"Quietest Day: {daily_sales['Revenue'].idxmin()}\")\n",
    "print(f\"Best Month: {monthly_sales['Revenue'].idxmax()}\")\n",
    "print(f\"Worst Month: {monthly_sales['Revenue'].idxmin()}\")"
   ]
  },
  {
   "cell_type": "markdown",
   "id": "4aa836cf-3f54-4601-8563-9cbcd75c1798",
   "metadata": {},
   "source": [
    "## VISUALIZATIONS"
   ]
  },
  {
   "cell_type": "code",
   "execution_count": 35,
   "id": "7cc4ca82-43c7-424d-80bc-f27dd346fe10",
   "metadata": {},
   "outputs": [
    {
     "data": {
      "image/png": "[encoded data removed]",
      "text/plain": [
       "<Figure size 1600x1400 with 6 Axes>"
      ]
     },
     "metadata": {},
     "output_type": "display_data"
    }
   ],
   "source": [
    "# Create visualizations\n",
    "fig, axes = plt.subplots(3, 2, figsize=(16, 14))\n",
    "fig.suptitle('Pizza Place Sales Dashboard - 2015', fontsize=16, fontweight='bold')\n",
    "\n",
    "# 1. Hourly Sales\n",
    "ax1 = axes[0, 0]\n",
    "hourly_rev = df.groupby('hour')['revenue'].sum().sort_index()\n",
    "ax1.plot(hourly_rev.index, hourly_rev.values, marker='o', linewidth=2, color='#FF6B6B')\n",
    "ax1.set_xlabel('Hour of Day')\n",
    "ax1.set_ylabel('Revenue ($)')\n",
    "ax1.set_title('Sales by Hour')\n",
    "ax1.grid(True, alpha=0.3)\n",
    "\n",
    "# 2. Daily Sales\n",
    "ax2 = axes[0, 1]\n",
    "daily_rev = df.groupby('day_of_week')['revenue'].sum().reindex(day_order)\n",
    "ax2.bar(range(len(day_order)), daily_rev.values, color='#4ECDC4')\n",
    "ax2.set_xticks(range(len(day_order)))\n",
    "ax2.set_xticklabels([d[:3] for d in day_order], rotation=0)\n",
    "ax2.set_ylabel('Revenue ($)')\n",
    "ax2.set_title('Sales by Day of Week')\n",
    "\n",
    "# 3. Monthly Trend\n",
    "ax3 = axes[1, 0]\n",
    "monthly_rev = df.groupby('month')['revenue'].sum()\n",
    "ax3.plot(monthly_rev.index, monthly_rev.values, marker='o', linewidth=2, color='#95E1D3')\n",
    "ax3.set_xlabel('Month')\n",
    "ax3.set_ylabel('Revenue ($)')\n",
    "ax3.set_title('Monthly Sales Trend')\n",
    "ax3.set_xticks(range(1, 13))\n",
    "ax3.grid(True, alpha=0.3)\n",
    "\n",
    "# 4. Top 10 Pizzas\n",
    "ax4 = axes[1, 1]\n",
    "top10 = df.groupby('name')['quantity'].sum().sort_values(ascending=False).head(10)\n",
    "ax4.barh(range(len(top10)), top10.values, color='#F38181')\n",
    "ax4.set_yticks(range(len(top10)))\n",
    "ax4.set_yticklabels([name.replace('The ', '').replace(' Pizza', '') for name in top10.index], fontsize=8)\n",
    "ax4.set_xlabel('Quantity Sold')\n",
    "ax4.set_title('Top 10 Bestselling Pizzas')\n",
    "ax4.invert_yaxis()\n",
    "\n",
    "# 5. Sales by Category\n",
    "ax5 = axes[2, 0]\n",
    "cat_sales = df.groupby('category')['revenue'].sum().sort_values(ascending=False)\n",
    "colors = ['#FFD93D', '#6BCB77', '#4D96FF', '#FF6B9D']\n",
    "ax5.pie(cat_sales.values, labels=cat_sales.index, autopct='%1.1f%%', colors=colors, startangle=90)\n",
    "ax5.set_title('Revenue by Category')\n",
    "\n",
    "# 6. Sales by Size\n",
    "ax6 = axes[2, 1]\n",
    "size_sales_viz = df.groupby('size')['quantity'].sum().sort_values(ascending=False)\n",
    "ax6.bar(size_sales_viz.index, size_sales_viz.values, color=['#E74C3C', '#3498DB', '#2ECC71', '#F39C12'])\n",
    "ax6.set_xlabel('Pizza Size')\n",
    "ax6.set_ylabel('Quantity Sold')\n",
    "ax6.set_title('Sales by Size')\n",
    "\n",
    "plt.tight_layout()\n",
    "plt.show()"
   ]
  }
 ],
 "metadata": {
  "kernelspec": {
   "display_name": "Python 3 (ipykernel)",
   "language": "python",
   "name": "python3"
  },
  "language_info": {
   "codemirror_mode": {
    "name": "ipython",
    "version": 3
   },
   "file_extension": ".py",
   "mimetype": "text/x-python",
   "name": "python",
   "nbconvert_exporter": "python",
   "pygments_lexer": "ipython3",
   "version": "3.13.5"
  }
 },
 "nbformat": 4,
 "nbformat_minor": 5
}
